{
 "cells": [
  {
   "cell_type": "code",
   "execution_count": 9,
   "id": "2696a2ba",
   "metadata": {},
   "outputs": [
    {
     "name": "stdout",
     "output_type": "stream",
     "text": [
      "Accuracy: 92.581%\n",
      "[[587  51]\n",
      " [ 43 586]]\n"
     ]
    }
   ],
   "source": [
    "import numpy as np\n",
    "import pandas as pd\n",
    "import itertools\n",
    "from sklearn.model_selection import train_test_split\n",
    "from sklearn.feature_extraction.text import TfidfVectorizer\n",
    "from sklearn.linear_model import PassiveAggressiveClassifier\n",
    "from sklearn.metrics import accuracy_score, confusion_matrix\n",
    "\n",
    "#Read the data\n",
    "dataset=pd.read_csv('news.csv')\n",
    "\n",
    "#Get shape and head\n",
    "dataset.shape\n",
    "dataset.head()\n",
    "\n",
    "#Get the labels\n",
    "labels=dataset.label\n",
    "labels.head()\n",
    "\n",
    "#Split the dataset\n",
    "x_train,x_test,y_train,y_test=train_test_split(dataset['text'], labels, test_size=0.2, random_state=7)\n",
    "\n",
    "#Initialize a Tokenize document - TfidfVectorizer\n",
    "fit_trans_dataset_vectorizer=TfidfVectorizer(stop_words='english', max_df=0.7)\n",
    "\n",
    "#Fit and transform train set, transform test set\n",
    "fit_trans_dataset_train=fit_trans_dataset_vectorizer.fit_transform(x_train) \n",
    "fit_trans_dataset_test=fit_trans_dataset_vectorizer.transform(x_test)\n",
    "\n",
    "#Initialize a PassiveAggressiveClassifier\n",
    "pac=PassiveAggressiveClassifier(max_iter=50)\n",
    "pac.fit(fit_trans_dataset_train,y_train)\n",
    "\n",
    "#Predict on the test set and calculate accuracy\n",
    "y_pred=pac.predict(fit_trans_dataset_test)\n",
    "score=accuracy_score(y_test,y_pred)\n",
    "print(f'Accuracy: {round(score*100,3)}%')\n",
    "\n",
    "#Build confusion matrix\n",
    "confumat = confusion_matrix(y_test,y_pred, labels=['FAKE','REAL'])\n",
    "\n",
    "print(confumat)"
   ]
  },
  {
   "cell_type": "code",
   "execution_count": null,
   "id": "b4ff8bc9",
   "metadata": {},
   "outputs": [],
   "source": []
  },
  {
   "cell_type": "code",
   "execution_count": null,
   "id": "9b71972b",
   "metadata": {},
   "outputs": [],
   "source": []
  }
 ],
 "metadata": {
  "kernelspec": {
   "display_name": "Python 3",
   "language": "python",
   "name": "python3"
  },
  "language_info": {
   "codemirror_mode": {
    "name": "ipython",
    "version": 3
   },
   "file_extension": ".py",
   "mimetype": "text/x-python",
   "name": "python",
   "nbconvert_exporter": "python",
   "pygments_lexer": "ipython3",
   "version": "3.8.8"
  }
 },
 "nbformat": 4,
 "nbformat_minor": 5
}
